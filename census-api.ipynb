{
 "cells": [
  {
   "cell_type": "code",
   "execution_count": 85,
   "metadata": {},
   "outputs": [],
   "source": [
    "from census import Census\n",
    "from us import states\n",
    "import numpy as np\n",
    "import pandas as pd\n",
    "import json"
   ]
  },
  {
   "cell_type": "code",
   "execution_count": 86,
   "metadata": {},
   "outputs": [],
   "source": [
    "##Download census data\n",
    "c = Census(\"bb12177f5c9038b688fe6adfb177754897dc9929\")\n",
    "pov_list = c.acs5.state_county_tract(('NAME', 'B01003_001E', 'B17001_002E'), '26', '163', Census.ALL)\n",
    "pov_json = json.dumps(pov_list)"
   ]
  },
  {
   "cell_type": "code",
   "execution_count": 87,
   "metadata": {},
   "outputs": [
    {
     "data": {
      "text/html": [
       "<div>\n",
       "<style scoped>\n",
       "    .dataframe tbody tr th:only-of-type {\n",
       "        vertical-align: middle;\n",
       "    }\n",
       "\n",
       "    .dataframe tbody tr th {\n",
       "        vertical-align: top;\n",
       "    }\n",
       "\n",
       "    .dataframe thead th {\n",
       "        text-align: right;\n",
       "    }\n",
       "</style>\n",
       "<table border=\"1\" class=\"dataframe\">\n",
       "  <thead>\n",
       "    <tr style=\"text-align: right;\">\n",
       "      <th></th>\n",
       "      <th>B01003_001E</th>\n",
       "      <th>B17001_002E</th>\n",
       "      <th>NAME</th>\n",
       "      <th>county</th>\n",
       "      <th>state</th>\n",
       "      <th>tract</th>\n",
       "    </tr>\n",
       "  </thead>\n",
       "  <tbody>\n",
       "    <tr>\n",
       "      <th>0</th>\n",
       "      <td>3049</td>\n",
       "      <td>778</td>\n",
       "      <td>Census Tract 5001, Wayne County, Michigan</td>\n",
       "      <td>163</td>\n",
       "      <td>26</td>\n",
       "      <td>500100</td>\n",
       "    </tr>\n",
       "    <tr>\n",
       "      <th>1</th>\n",
       "      <td>2666</td>\n",
       "      <td>712</td>\n",
       "      <td>Census Tract 5002, Wayne County, Michigan</td>\n",
       "      <td>163</td>\n",
       "      <td>26</td>\n",
       "      <td>500200</td>\n",
       "    </tr>\n",
       "    <tr>\n",
       "      <th>2</th>\n",
       "      <td>2234</td>\n",
       "      <td>833</td>\n",
       "      <td>Census Tract 5003, Wayne County, Michigan</td>\n",
       "      <td>163</td>\n",
       "      <td>26</td>\n",
       "      <td>500300</td>\n",
       "    </tr>\n",
       "    <tr>\n",
       "      <th>3</th>\n",
       "      <td>1154</td>\n",
       "      <td>617</td>\n",
       "      <td>Census Tract 5004, Wayne County, Michigan</td>\n",
       "      <td>163</td>\n",
       "      <td>26</td>\n",
       "      <td>500400</td>\n",
       "    </tr>\n",
       "    <tr>\n",
       "      <th>4</th>\n",
       "      <td>1632</td>\n",
       "      <td>467</td>\n",
       "      <td>Census Tract 5005, Wayne County, Michigan</td>\n",
       "      <td>163</td>\n",
       "      <td>26</td>\n",
       "      <td>500500</td>\n",
       "    </tr>\n",
       "  </tbody>\n",
       "</table>\n",
       "</div>"
      ],
      "text/plain": [
       "   B01003_001E  B17001_002E                                       NAME  \\\n",
       "0         3049          778  Census Tract 5001, Wayne County, Michigan   \n",
       "1         2666          712  Census Tract 5002, Wayne County, Michigan   \n",
       "2         2234          833  Census Tract 5003, Wayne County, Michigan   \n",
       "3         1154          617  Census Tract 5004, Wayne County, Michigan   \n",
       "4         1632          467  Census Tract 5005, Wayne County, Michigan   \n",
       "\n",
       "   county  state   tract  \n",
       "0     163     26  500100  \n",
       "1     163     26  500200  \n",
       "2     163     26  500300  \n",
       "3     163     26  500400  \n",
       "4     163     26  500500  "
      ]
     },
     "execution_count": 87,
     "metadata": {},
     "output_type": "execute_result"
    }
   ],
   "source": [
    "##Put in pandas dataframe\n",
    "pov_df = pd.read_json(pov_json)\n",
    "pov_df.head()"
   ]
  },
  {
   "cell_type": "code",
   "execution_count": 88,
   "metadata": {},
   "outputs": [],
   "source": [
    "##download census data\n",
    "pov_df.to_csv(\"pov-data.csv\", index=False)"
   ]
  },
  {
   "cell_type": "code",
   "execution_count": null,
   "metadata": {},
   "outputs": [],
   "source": []
  }
 ],
 "metadata": {
  "kernelspec": {
   "display_name": "Python 3",
   "language": "python",
   "name": "python3"
  },
  "language_info": {
   "codemirror_mode": {
    "name": "ipython",
    "version": 3
   },
   "file_extension": ".py",
   "mimetype": "text/x-python",
   "name": "python",
   "nbconvert_exporter": "python",
   "pygments_lexer": "ipython3",
   "version": "3.6.4"
  }
 },
 "nbformat": 4,
 "nbformat_minor": 2
}
